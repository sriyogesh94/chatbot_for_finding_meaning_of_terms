{
 "cells": [
  {
   "cell_type": "markdown",
   "metadata": {},
   "source": [
    "## Generate training Data for the Bot"
   ]
  },
  {
   "cell_type": "code",
   "execution_count": 1,
   "metadata": {},
   "outputs": [],
   "source": [
    "import numpy as np\n",
    "import pandas as pd"
   ]
  },
  {
   "cell_type": "code",
   "execution_count": 34,
   "metadata": {},
   "outputs": [],
   "source": [
    "import warnings\n",
    "warnings.filterwarnings(\"ignore\")"
   ]
  },
  {
   "cell_type": "code",
   "execution_count": 3,
   "metadata": {},
   "outputs": [],
   "source": [
    "filtered_terms = pd.read_csv('./filtered_terms.csv')"
   ]
  },
  {
   "cell_type": "code",
   "execution_count": 4,
   "metadata": {},
   "outputs": [
    {
     "data": {
      "text/html": [
       "<div>\n",
       "<style scoped>\n",
       "    .dataframe tbody tr th:only-of-type {\n",
       "        vertical-align: middle;\n",
       "    }\n",
       "\n",
       "    .dataframe tbody tr th {\n",
       "        vertical-align: top;\n",
       "    }\n",
       "\n",
       "    .dataframe thead th {\n",
       "        text-align: right;\n",
       "    }\n",
       "</style>\n",
       "<table border=\"1\" class=\"dataframe\">\n",
       "  <thead>\n",
       "    <tr style=\"text-align: right;\">\n",
       "      <th></th>\n",
       "      <th>Unnamed: 0</th>\n",
       "      <th>Glossary Type</th>\n",
       "      <th>Term Name</th>\n",
       "      <th>Description</th>\n",
       "      <th>Usage Context</th>\n",
       "      <th>Associated Category Names</th>\n",
       "      <th>Service Line</th>\n",
       "    </tr>\n",
       "  </thead>\n",
       "  <tbody>\n",
       "    <tr>\n",
       "      <th>0</th>\n",
       "      <td>0</td>\n",
       "      <td>Acronyms</td>\n",
       "      <td>HUGO</td>\n",
       "      <td>Have U Gone Online (Intranet)</td>\n",
       "      <td>HUGO</td>\n",
       "      <td>NaN</td>\n",
       "      <td>NaN</td>\n",
       "    </tr>\n",
       "    <tr>\n",
       "      <th>1</th>\n",
       "      <td>3</td>\n",
       "      <td>Acronyms</td>\n",
       "      <td>NI</td>\n",
       "      <td>Nominal Insurer- The Organization is the Nomin...</td>\n",
       "      <td>NI</td>\n",
       "      <td>NaN</td>\n",
       "      <td>NaN</td>\n",
       "    </tr>\n",
       "    <tr>\n",
       "      <th>2</th>\n",
       "      <td>4</td>\n",
       "      <td>Acronyms</td>\n",
       "      <td>CVV</td>\n",
       "      <td>Card Verification Value</td>\n",
       "      <td>CVV</td>\n",
       "      <td>NaN</td>\n",
       "      <td>NaN</td>\n",
       "    </tr>\n",
       "    <tr>\n",
       "      <th>3</th>\n",
       "      <td>7</td>\n",
       "      <td>Acronyms</td>\n",
       "      <td>EOI</td>\n",
       "      <td>Expression of Interest</td>\n",
       "      <td>EOI</td>\n",
       "      <td>NaN</td>\n",
       "      <td>NaN</td>\n",
       "    </tr>\n",
       "    <tr>\n",
       "      <th>4</th>\n",
       "      <td>8</td>\n",
       "      <td>Acronyms</td>\n",
       "      <td>TEED</td>\n",
       "      <td>Tape Effective End Date (Submission End Date)</td>\n",
       "      <td>TEED</td>\n",
       "      <td>NaN</td>\n",
       "      <td>NaN</td>\n",
       "    </tr>\n",
       "  </tbody>\n",
       "</table>\n",
       "</div>"
      ],
      "text/plain": [
       "   Unnamed: 0 Glossary Type Term Name  \\\n",
       "0           0      Acronyms      HUGO   \n",
       "1           3      Acronyms        NI   \n",
       "2           4      Acronyms       CVV   \n",
       "3           7      Acronyms       EOI   \n",
       "4           8      Acronyms      TEED   \n",
       "\n",
       "                                         Description Usage Context  \\\n",
       "0                      Have U Gone Online (Intranet)          HUGO   \n",
       "1  Nominal Insurer- The Organization is the Nomin...            NI   \n",
       "2                            Card Verification Value           CVV   \n",
       "3                             Expression of Interest           EOI   \n",
       "4      Tape Effective End Date (Submission End Date)          TEED   \n",
       "\n",
       "  Associated Category Names Service Line  \n",
       "0                       NaN          NaN  \n",
       "1                       NaN          NaN  \n",
       "2                       NaN          NaN  \n",
       "3                       NaN          NaN  \n",
       "4                       NaN          NaN  "
      ]
     },
     "execution_count": 4,
     "metadata": {},
     "output_type": "execute_result"
    }
   ],
   "source": [
    "filtered_terms.head()"
   ]
  },
  {
   "cell_type": "code",
   "execution_count": 5,
   "metadata": {},
   "outputs": [],
   "source": [
    "entity_list = [str(i) for i in filtered_terms['Term Name'].tolist()]"
   ]
  },
  {
   "cell_type": "code",
   "execution_count": 6,
   "metadata": {},
   "outputs": [],
   "source": [
    "patterns_for_bot = {\"intents\":[\n",
    "        {\"tag\": \"greeting\",\n",
    "        \"queries\" : [\"hello\",\"hey there\",\"howdy\",\"hello\",\"hi\",\"hey\",\"hey ho\"],\n",
    "        \"responses\": [\"Hello! How may I help you?\", \"Hi! Good to see you. How can I assist you?\", ]\n",
    "           },\n",
    "       {\"tag\":\"meaning\",\n",
    "        \"queries\" : [\"what is the meaning of @?\",\"what does @ mean\",\" what is @?\",\"what do you mean by @\",\"meaning of  @\",\n",
    "                   \"define @\",\"I would want to know about @\",\n",
    "                   \"what's @ by the way\",\n",
    "                   \"know about @\",\n",
    "                   \"let me know the meaning of @\",\n",
    "                   \"@ meaning\",\n",
    "                   \"find about @.\",\n",
    "                   \"look for @.\",\n",
    "                   \"look for the meaning of @\", \n",
    "                   \"search for the meaning of @ \"]\n",
    "         },\n",
    "         {\"tag\":\"bye\",\n",
    "          \"queries\":[\"bye.\",\"Thank you\",\"Thank you for the help.\",\"It was good talking to you\",\"Amazing\",\"Great\",\n",
    "                    \"superb\",\"Thanks for the assistance\"],\n",
    "         \"responses\":[\"Thank you! Have a good time\",\"Thank you! Wish to see you back again\"]\n",
    "           }\n",
    "    ]\n",
    "}"
   ]
  },
  {
   "cell_type": "code",
   "execution_count": 7,
   "metadata": {},
   "outputs": [],
   "source": [
    "import re\n",
    "from collections import OrderedDict\n",
    "import json\n",
    "\n",
    "def generate_rasa_train_data(train_data_for_bot, entity_list, file_to_save='./rasa_training_data.json'):\n",
    "    \n",
    "    base_dict_struct = OrderedDict()\n",
    "    example_dict_struct = OrderedDict()\n",
    "    example_dict_struct[\"common_examples\"] = []\n",
    "    example_dict_struct[\"regex_features\"] = []\n",
    "    example_dict_struct[\"lookup_tables\"] = []\n",
    "    example_dict_struct[\"entity_synonyms\"] = []\n",
    "    base_dict_struct[\"rasa_nlu_data\"] = example_dict_struct\n",
    "    \n",
    "    common_example_struct = OrderedDict()\n",
    "    common_example_struct[\"text\"] = \"\"\n",
    "    common_example_struct[\"intent\"] = \"blah\"\n",
    "    common_example_struct[\"entities\"] = []\n",
    "    \n",
    "    entity_dict_struct = OrderedDict()\n",
    "    entity_dict_struct[\"start\"] = None\n",
    "    entity_dict_struct[\"end\"] = None\n",
    "    entity_dict_struct[\"value\"] = \"\"\n",
    "    entity_dict_struct[\"entity\"] = \"\"\n",
    "    patterns_for_bot = train_data_for_bot['intents']\n",
    "    \n",
    "    for pattern in patterns_for_bot:        \n",
    "        if ((pattern['tag'] == 'greeting') or (pattern['tag'] == 'bye')):\n",
    "            for query in pattern['queries']:\n",
    "                temp_example = common_example_struct.copy()\n",
    "                temp_example[\"intent\"] = pattern['tag']\n",
    "                temp_example[\"text\"] = query\n",
    "                temp_example[\"entities\"] = []\n",
    "                base_dict_struct[\"rasa_nlu_data\"][\"common_examples\"].append(temp_example)\n",
    "        if pattern['tag'] == 'meaning':\n",
    "            for query in pattern['queries']:\n",
    "                for entity in entity_list:\n",
    "                    temp_example = common_example_struct.copy()\n",
    "                    temp_example[\"intent\"] = pattern['tag']\n",
    "                    temp_example[\"text\"] = re.sub(r'@', entity, query)\n",
    "                    temp_ent_dict = entity_dict_struct.copy()\n",
    "                    entity_pattern = re.search(entity, temp_example[\"text\"]).span()\n",
    "                    temp_ent_dict[\"start\"] = entity_pattern[0]\n",
    "                    temp_ent_dict[\"end\"] = entity_pattern[1]\n",
    "                    temp_ent_dict[\"value\"] = entity\n",
    "                    temp_ent_dict[\"entity\"] = \"BUSINESS_TERM\"\n",
    "                    temp_example[\"entities\"] = []\n",
    "                    temp_example[\"entities\"].append(temp_ent_dict)\n",
    "                    base_dict_struct[\"rasa_nlu_data\"][\"common_examples\"].append(temp_example)\n",
    "        \n",
    "    with open(file_to_save, 'w') as f:\n",
    "        json.dump(base_dict_struct, f)\n",
    "            \n",
    "    return base_dict_struct"
   ]
  },
  {
   "cell_type": "code",
   "execution_count": 8,
   "metadata": {},
   "outputs": [],
   "source": [
    "rasa_train_data = generate_rasa_train_data(patterns_for_bot, entity_list, file_to_save='./rasa_training_data.json')"
   ]
  },
  {
   "cell_type": "code",
   "execution_count": 9,
   "metadata": {
    "scrolled": true
   },
   "outputs": [
    {
     "data": {
      "text/plain": [
       "[OrderedDict([('text', 'what is the meaning of RPL?'),\n",
       "              ('intent', 'meaning'),\n",
       "              ('entities',\n",
       "               [OrderedDict([('start', 23),\n",
       "                             ('end', 26),\n",
       "                             ('value', 'RPL'),\n",
       "                             ('entity', 'BUSINESS_TERM')])])]),\n",
       " OrderedDict([('text', 'what is the meaning of RACGP?'),\n",
       "              ('intent', 'meaning'),\n",
       "              ('entities',\n",
       "               [OrderedDict([('start', 23),\n",
       "                             ('end', 28),\n",
       "                             ('value', 'RACGP'),\n",
       "                             ('entity', 'BUSINESS_TERM')])])]),\n",
       " OrderedDict([('text', 'what is the meaning of MSL?'),\n",
       "              ('intent', 'meaning'),\n",
       "              ('entities',\n",
       "               [OrderedDict([('start', 23),\n",
       "                             ('end', 26),\n",
       "                             ('value', 'MSL'),\n",
       "                             ('entity', 'BUSINESS_TERM')])])])]"
      ]
     },
     "execution_count": 9,
     "metadata": {},
     "output_type": "execute_result"
    }
   ],
   "source": [
    "rasa_train_data[\"rasa_nlu_data\"][\"common_examples\"][15:18]"
   ]
  },
  {
   "cell_type": "markdown",
   "metadata": {},
   "source": [
    "## Training the RASA Language Model"
   ]
  },
  {
   "cell_type": "code",
   "execution_count": 10,
   "metadata": {},
   "outputs": [],
   "source": [
    "from rasa_nlu.training_data import load_data\n",
    "from rasa_nlu.model import Trainer\n",
    "from rasa_nlu import config\n",
    "from rasa_nlu.model import Interpreter"
   ]
  },
  {
   "cell_type": "code",
   "execution_count": 11,
   "metadata": {},
   "outputs": [
    {
     "name": "stderr",
     "output_type": "stream",
     "text": [
      "C:\\Users\\Sri Yogesh\\Anaconda3\\lib\\site-packages\\h5py\\__init__.py:36: FutureWarning: Conversion of the second argument of issubdtype from `float` to `np.floating` is deprecated. In future, it will be treated as `np.float64 == np.dtype(float).type`.\n",
      "  from ._conv import register_converters as _register_converters\n"
     ]
    }
   ],
   "source": [
    "training_data = load_data('./rasa_training_data.json')\n",
    "trainer = Trainer(config.load(\"./config_model.yml\"))"
   ]
  },
  {
   "cell_type": "code",
   "execution_count": 12,
   "metadata": {},
   "outputs": [
    {
     "name": "stdout",
     "output_type": "stream",
     "text": [
      "Fitting 2 folds for each of 6 candidates, totalling 12 fits\n"
     ]
    },
    {
     "name": "stderr",
     "output_type": "stream",
     "text": [
      "[Parallel(n_jobs=1)]: Done  12 out of  12 | elapsed:    6.1s finished\n"
     ]
    },
    {
     "data": {
      "text/plain": [
       "<rasa_nlu.model.Interpreter at 0x1c6e5482898>"
      ]
     },
     "execution_count": 12,
     "metadata": {},
     "output_type": "execute_result"
    }
   ],
   "source": [
    "trainer.train(training_data)"
   ]
  },
  {
   "cell_type": "code",
   "execution_count": 13,
   "metadata": {},
   "outputs": [],
   "source": [
    "model_directory = trainer.persist('./', fixed_model_name='./terms_model')"
   ]
  },
  {
   "cell_type": "code",
   "execution_count": 14,
   "metadata": {},
   "outputs": [
    {
     "name": "stderr",
     "output_type": "stream",
     "text": [
      "C:\\Users\\Sri Yogesh\\Anaconda3\\lib\\site-packages\\rasa_nlu\\extractors\\entity_synonyms.py:85: UserWarning: Failed to load synonyms file from './default/terms_model\\entity_synonyms.json'\n",
      "  \"\".format(entity_synonyms_file))\n"
     ]
    }
   ],
   "source": [
    "interpreter = Interpreter.load('./default/terms_model')"
   ]
  },
  {
   "cell_type": "code",
   "execution_count": 15,
   "metadata": {},
   "outputs": [],
   "source": [
    "query = 'what is the meaning of RPL?'"
   ]
  },
  {
   "cell_type": "code",
   "execution_count": 16,
   "metadata": {},
   "outputs": [
    {
     "data": {
      "text/plain": [
       "{'intent': {'name': 'meaning', 'confidence': 0.9999999473462909},\n",
       " 'entities': [{'start': 23,\n",
       "   'end': 26,\n",
       "   'value': 'rpl',\n",
       "   'entity': 'BUSINESS_TERM',\n",
       "   'confidence': 0.9994916091012706,\n",
       "   'extractor': 'ner_crf'}],\n",
       " 'intent_ranking': [{'name': 'meaning', 'confidence': 0.9999999473462909},\n",
       "  {'name': 'bye', 'confidence': 3.356829303740098e-08},\n",
       "  {'name': 'greeting', 'confidence': 1.908541596863644e-08}],\n",
       " 'text': 'what is the meaning of RPL?'}"
      ]
     },
     "execution_count": 16,
     "metadata": {},
     "output_type": "execute_result"
    }
   ],
   "source": [
    "interpreter.parse(query)"
   ]
  },
  {
   "cell_type": "markdown",
   "metadata": {},
   "source": [
    "## Creating the Policy for the Bot"
   ]
  },
  {
   "cell_type": "code",
   "execution_count": 23,
   "metadata": {},
   "outputs": [],
   "source": [
    "from rasa_nlu.model import Interpreter\n",
    "import numpy as np"
   ]
  },
  {
   "cell_type": "code",
   "execution_count": 30,
   "metadata": {},
   "outputs": [],
   "source": [
    "bot_state = 0"
   ]
  },
  {
   "cell_type": "code",
   "execution_count": 32,
   "metadata": {},
   "outputs": [],
   "source": [
    "def bot_policy(query, filtered_terms = './filtered_terms.csv', nlu_model = './default/terms_model'):\n",
    "    \n",
    "    global bot_state\n",
    "    \n",
    "    if query == 'How does workplace rehabilitation work?':\n",
    "        return 'Workplace rehabilitation can involve a suitable duties program, on-the-job training for new job skills and special help if you are severely injured.'\n",
    "    \n",
    "    if (bot_state == 0) and (query == 'How would I find out where the injury occured?'):\n",
    "        bot_state = 1\n",
    "        return 'Do you refer to body location of injury or location of the site? Respond just: body for body location or site for site location'\n",
    "    if (bot_state == 1) and (query == 'body'):\n",
    "        bot_state = 2\n",
    "        return 'Then, please refer to C: 2.1.46 - Bodily location of injury/disease code. It identifies the part of the body affected by the most serious injury or disease.'\n",
    "    if (bot_state == 2) and (query == 'site'):\n",
    "        bot_state = 0\n",
    "        return \"Then, it must be the accident location, acloccd being the variable name. A code to identify the type of accident location. '00' = Old claims with no location. '01' = Normal workplace. '02' = Other private workplace. '03' = Construction site. '04' = Public thoroughfares '05' = Moving transport\"\n",
    "    \n",
    "    if (bot_state == 0) and (query == 'How would one know what the worker earned previously?'):\n",
    "        bot_state = 1\n",
    "        return 'Do you mean what the worker earned prior to injury? Respond just Yes/ No.'\n",
    "    if (bot_state == 1) and (query == 'Yes'):\n",
    "        bot_state = 0\n",
    "        return 'Please look up Workers PreInjury Average Weekly Earnings. This is the average of the workers ordinary earnings expressed as a weekly sum.'\n",
    "    \n",
    "    interpreter = Interpreter.load(nlu_model)\n",
    "    nlu_response = interpreter.parse(query)\n",
    "    if nlu_response['intent']['name'] == 'greeting':\n",
    "        responses = [\"Hello! How may I help you?\", \"Hi! Good to see you. How can I assist you?\"]\n",
    "        return responses[np.random.randint(0, len(responses))]\n",
    "    elif nlu_response['intent']['name'] == 'meaning':\n",
    "        filtered_terms = pd.read_csv(filtered_terms)\n",
    "        entity_value = nlu_response['entities'][0]['value']\n",
    "        entity_record = filtered_terms[filtered_terms['Term Name'].str.lower().str.contains(entity_value)]\n",
    "        return \"The meaning of {} according to the Glossary Type {} is {}\".format(entity_value,\n",
    "                                                                                  entity_record['Glossary Type'].values[0],\n",
    "                                                                                  entity_record['Description'].values[0])\n",
    "    else:\n",
    "        responses = [\"Thank you! Have a good time\",\"Thank you! Wish to see you back again\"]\n",
    "        return responses[np.random.randint(0, len(responses))]"
   ]
  },
  {
   "cell_type": "markdown",
   "metadata": {},
   "source": [
    "### Term Lookup"
   ]
  },
  {
   "cell_type": "code",
   "execution_count": 33,
   "metadata": {},
   "outputs": [],
   "source": [
    "query = 'what is the meaning of RPL?'"
   ]
  },
  {
   "cell_type": "code",
   "execution_count": 35,
   "metadata": {},
   "outputs": [
    {
     "data": {
      "text/plain": [
       "'The meaning of rpl according to the Glossary Type Acronyms is Retro Paid Loss'"
      ]
     },
     "execution_count": 35,
     "metadata": {},
     "output_type": "execute_result"
    }
   ],
   "source": [
    "bot_policy(query)"
   ]
  },
  {
   "cell_type": "markdown",
   "metadata": {},
   "source": [
    "### Scenario Three"
   ]
  },
  {
   "cell_type": "code",
   "execution_count": 27,
   "metadata": {},
   "outputs": [],
   "source": [
    "query_scenario_three = 'How does workplace rehabilitation work?'"
   ]
  },
  {
   "cell_type": "code",
   "execution_count": 28,
   "metadata": {
    "scrolled": true
   },
   "outputs": [
    {
     "data": {
      "text/plain": [
       "'Workplace rehabilitation can involve a suitable duties program, on-the-job training for new job skills and special help if you are severely injured.'"
      ]
     },
     "execution_count": 28,
     "metadata": {},
     "output_type": "execute_result"
    }
   ],
   "source": [
    "bot_policy(query_scenario_three)"
   ]
  },
  {
   "cell_type": "markdown",
   "metadata": {},
   "source": [
    "### Scenario One"
   ]
  },
  {
   "cell_type": "code",
   "execution_count": 40,
   "metadata": {},
   "outputs": [],
   "source": [
    "query_scenario_one1 = 'How would one know what the worker earned previously?'\n",
    "query_scenario_one2 = 'Yes'"
   ]
  },
  {
   "cell_type": "code",
   "execution_count": 41,
   "metadata": {},
   "outputs": [
    {
     "data": {
      "text/plain": [
       "'Do you mean what the worker earned prior to injury? Respond just Yes/ No.'"
      ]
     },
     "execution_count": 41,
     "metadata": {},
     "output_type": "execute_result"
    }
   ],
   "source": [
    "bot_policy(query_scenario_one1)"
   ]
  },
  {
   "cell_type": "code",
   "execution_count": 42,
   "metadata": {},
   "outputs": [
    {
     "data": {
      "text/plain": [
       "'Please look up Workers PreInjury Average Weekly Earnings. This is the average of the workers ordinary earnings expressed as a weekly sum.'"
      ]
     },
     "execution_count": 42,
     "metadata": {},
     "output_type": "execute_result"
    }
   ],
   "source": [
    "bot_policy(query_scenario_one2)"
   ]
  },
  {
   "cell_type": "markdown",
   "metadata": {},
   "source": [
    "### Scenario Two"
   ]
  },
  {
   "cell_type": "code",
   "execution_count": 43,
   "metadata": {},
   "outputs": [],
   "source": [
    "query_scenario_two1 = 'How would I find out where the injury occured?'\n",
    "query_scenario_two2 = 'body'\n",
    "query_scenario_two3 = 'site'"
   ]
  },
  {
   "cell_type": "code",
   "execution_count": 44,
   "metadata": {},
   "outputs": [
    {
     "data": {
      "text/plain": [
       "'Do you refer to body location of injury or location of the site? Respond just: body for body location or site for site location'"
      ]
     },
     "execution_count": 44,
     "metadata": {},
     "output_type": "execute_result"
    }
   ],
   "source": [
    "bot_policy(query_scenario_two1)"
   ]
  },
  {
   "cell_type": "code",
   "execution_count": 45,
   "metadata": {},
   "outputs": [
    {
     "data": {
      "text/plain": [
       "'Then, please refer to C: 2.1.46 - Bodily location of injury/disease code. It identifies the part of the body affected by the most serious injury or disease.'"
      ]
     },
     "execution_count": 45,
     "metadata": {},
     "output_type": "execute_result"
    }
   ],
   "source": [
    "bot_policy(query_scenario_two2)"
   ]
  },
  {
   "cell_type": "code",
   "execution_count": 46,
   "metadata": {},
   "outputs": [
    {
     "data": {
      "text/plain": [
       "\"Then, it must be the accident location, acloccd being the variable name. A code to identify the type of accident location. '00' = Old claims with no location. '01' = Normal workplace. '02' = Other private workplace. '03' = Construction site. '04' = Public thoroughfares '05' = Moving transport\""
      ]
     },
     "execution_count": 46,
     "metadata": {},
     "output_type": "execute_result"
    }
   ],
   "source": [
    "bot_policy(query_scenario_two3)"
   ]
  }
 ],
 "metadata": {
  "kernelspec": {
   "display_name": "Python 3",
   "language": "python",
   "name": "python3"
  },
  "language_info": {
   "codemirror_mode": {
    "name": "ipython",
    "version": 3
   },
   "file_extension": ".py",
   "mimetype": "text/x-python",
   "name": "python",
   "nbconvert_exporter": "python",
   "pygments_lexer": "ipython3",
   "version": "3.6.5"
  }
 },
 "nbformat": 4,
 "nbformat_minor": 2
}
